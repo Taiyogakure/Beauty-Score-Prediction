{
 "cells": [
  {
   "cell_type": "code",
   "execution_count": 1,
   "metadata": {},
   "outputs": [],
   "source": [
    "from __future__ import division\n",
    "import dlib\n",
    "import cv2\n",
    "import numpy as np\n",
    "\n",
    "def resize(img, width=None, height=None, interpolation=cv2.INTER_AREA):\n",
    "    global ratio\n",
    "    w, h = img.shape\n",
    "\n",
    "    if width is None and height is None:\n",
    "        return img\n",
    "    elif width is None:\n",
    "        ratio = height / h\n",
    "        width = int(w * ratio)\n",
    "        resized = cv2.resize(img, (height, width), interpolation)\n",
    "        return resized\n",
    "    else:\n",
    "        ratio = width / w\n",
    "        height = int(h * ratio)\n",
    "        resized = cv2.resize(img, (height, width), interpolation)\n",
    "        return resized\n",
    "\n"
   ]
  },
  {
   "cell_type": "code",
   "execution_count": 2,
   "metadata": {},
   "outputs": [],
   "source": [
    "def shape_to_np(shape, dtype=\"int\"):\n",
    "    coords = np.zeros((81, 2), dtype=dtype)\n",
    "    \n",
    "    for i in range(0, 81):\n",
    "        coords[i] = (shape.part(i).x, shape.part(i).y)\n",
    "\n",
    "    return coords\n",
    "\n"
   ]
  },
  {
   "cell_type": "code",
   "execution_count": 3,
   "metadata": {},
   "outputs": [],
   "source": [
    "def landmark():\n",
    "    cap = cv2.VideoCapture(0)\n",
    "\n",
    "    path = \"shape_predictor_81_face_landmarks.dat\"\n",
    "    detector = dlib.get_frontal_face_detector()\n",
    "    predictor = dlib.shape_predictor(path)\n",
    "\n",
    "    while True:\n",
    "\n",
    "        ret, frame = cap.read()\n",
    "        if ret == False:\n",
    "            print('Failed to capture frame from camera. Check camera index in cv2.VideoCapture(0) \\n')\n",
    "            break\n",
    "\n",
    "        grey = cv2.cvtColor(frame, cv2.COLOR_BGR2GRAY)\n",
    "        frame_resized = resize(grey, width=120)\n",
    "        detects = detector(frame_resized, 1)\n",
    "        \n",
    "        if len(detects) > 0:\n",
    "            for k, d in enumerate(detects):\n",
    "                shape = predictor(frame_resized, d)\n",
    "                shape = shape_to_np(shape)\n",
    "                new=[]\n",
    "                new.append(shape[0])\n",
    "                new.append(shape[7])\n",
    "                new.append(shape[14])\n",
    "                new.append(shape[16])\n",
    "                new.append(shape[20])\n",
    "                new.append(shape[21])\n",
    "                new.append(shape[25])\n",
    "                new.append(shape[26])\n",
    "                new.append(shape[34])\n",
    "                new.append(shape[35])\n",
    "                new.append(shape[38])\n",
    "                new.append(shape[41])\n",
    "                new.append(shape[44])\n",
    "                new.append(shape[50])\n",
    "                new.append(shape[56])\n",
    "                new.append(shape[61])\n",
    "                new.append(shape[65])\n",
    "                new.append(shape[70])\n",
    "\n",
    "                for (x, y) in shape:\n",
    "                    cv2.circle(frame, (int(x/ratio), int(y/ratio)), 3, (255, 255, 255), -1)\n",
    "        cv2.imshow(\"image\", frame)\n",
    "\n",
    "        if cv2.waitKey(1) & 0xFF == ord('q'):\n",
    "            cv2.destroyAllWindows()\n",
    "            cap.release()\n",
    "            break\n",
    "    return new\n",
    "\n",
    "\n"
   ]
  },
  {
   "cell_type": "code",
   "execution_count": 4,
   "metadata": {},
   "outputs": [
    {
     "name": "stdout",
     "output_type": "stream",
     "text": [
      "[array([85, 56]), array([94, 89]), array([123,  71]), array([124,  59]), array([94, 51]), array([97, 52]), array([115,  53]), array([118,  55]), array([100,  71]), array([103,  70]), array([93, 56]), array([91, 58]), array([111,  57]), array([96, 75]), array([100,  81]), array([96, 77]), array([100,  78]), array([97, 39])]\n"
     ]
    }
   ],
   "source": [
    "coordinates= landmark()\n",
    "print(coordinates)"
   ]
  },
  {
   "cell_type": "code",
   "execution_count": null,
   "metadata": {},
   "outputs": [],
   "source": []
  }
 ],
 "metadata": {
  "kernelspec": {
   "display_name": "Python 3",
   "language": "python",
   "name": "python3"
  },
  "language_info": {
   "codemirror_mode": {
    "name": "ipython",
    "version": 3
   },
   "file_extension": ".py",
   "mimetype": "text/x-python",
   "name": "python",
   "nbconvert_exporter": "python",
   "pygments_lexer": "ipython3",
   "version": "3.5.6"
  }
 },
 "nbformat": 4,
 "nbformat_minor": 4
}
